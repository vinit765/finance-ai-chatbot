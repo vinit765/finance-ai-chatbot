{
 "cells": [
  {
   "cell_type": "code",
   "execution_count": null,
   "metadata": {},
   "outputs": [],
   "source": [
    "import google.generativeai as genai\n",
    "\n",
    "# Configure API key\n",
    "genai.configure(api_key=\"your_actual_gemini_api_key_here\")\n",
    "\n",
    "\n",
    "MODEL_NAME = \"gemini-2.0-flash\" \n",
    "\n",
    "def gemini_finance_chatbot(prompt):\n",
    "    \"\"\"Uses Google Gemini 2.0 Flash API to generate financial insights.\"\"\"\n",
    "    model = genai.GenerativeModel(MODEL_NAME)\n",
    "    try:\n",
    "        response = model.generate_content(prompt)\n",
    "        return response.text\n",
    "    except Exception as e:\n",
    "        return f\"Error: {e}\"\n",
    "\n"
   ]
  },
  {
   "cell_type": "code",
   "execution_count": 25,
   "metadata": {},
   "outputs": [],
   "source": [
    "import yfinance as yf\n",
    "\n",
    "def get_stock_price(ticker):\n",
    "    \"\"\"Fetches the latest stock price for a given stock ticker.\"\"\"\n",
    "    try:\n",
    "        stock = yf.Ticker(ticker)\n",
    "        data = stock.history(period=\"1d\")\n",
    "        if not data.empty:\n",
    "            return f\"The current stock price of {ticker.upper()} is ${data['Close'].iloc[-1]:.2f}.\"\n",
    "        else:\n",
    "            return \"No data found for this ticker.\"\n",
    "    except Exception as e:\n",
    "        return f\"Error fetching stock price: {e}\"\n"
   ]
  },
  {
   "cell_type": "code",
   "execution_count": 26,
   "metadata": {},
   "outputs": [],
   "source": [
    "def finance_chatbot(query):\n",
    "    \"\"\"AI Finance Chatbot with Gemini API & Stock Market Data\"\"\"\n",
    "    if \"stock price of\" in query.lower():\n",
    "        words = query.split()\n",
    "        ticker = words[-1].upper()\n",
    "        return get_stock_price(ticker)\n",
    "    else:\n",
    "        return gemini_finance_chatbot(query)\n"
   ]
  },
  {
   "cell_type": "code",
   "execution_count": null,
   "metadata": {},
   "outputs": [
    {
     "name": "stdout",
     "output_type": "stream",
     "text": [
      "The current stock price of AAPL? is $237.85.\n",
      "Inflation significantly impacts investment returns by eroding the purchasing power of those returns. Here's a breakdown of how:\n",
      "\n",
      "**1. Reduces Real Return:**\n",
      "\n",
      "*   **Nominal Return:** This is the stated return on your investment *before* accounting for inflation. For example, if your investment earns 8%, that's the nominal return.\n",
      "*   **Real Return:** This is the *actual* return after considering inflation.  It reflects the increase in your purchasing power. It's calculated as:\n",
      "\n",
      "    `Real Return ≈ Nominal Return - Inflation Rate`\n",
      "\n",
      "    So, if your investment has a nominal return of 8% and inflation is 3%, your real return is approximately 5%. This means your investment actually only increased your ability to buy goods and services by 5%.\n",
      "\n",
      "**2. Affects Different Asset Classes Differently:**\n",
      "\n",
      "*   **Stocks:** Historically, stocks have been considered a good hedge against inflation, especially in the long run.  Companies can often pass on increased costs to consumers (to some extent), maintaining profitability.  However, high and unexpected inflation can negatively impact stock prices in the short term due to economic uncertainty and concerns about earnings.\n",
      "*   **Bonds:** Inflation is generally bad for bonds, especially fixed-rate bonds.  If you buy a bond paying 4% and inflation rises to 5%, your real return is negative 1%.  Inflation erodes the value of the fixed interest payments.  Inflation-indexed bonds (like TIPS - Treasury Inflation-Protected Securities) are designed to protect against inflation by adjusting their principal value based on the Consumer Price Index (CPI).\n",
      "*   **Real Estate:** Real estate can be a mixed bag.  In a moderate inflationary environment, rents can often be increased to keep pace with rising costs.  However, high interest rates (often used to combat inflation) can make mortgages more expensive, potentially dampening demand and property values.\n",
      "*   **Commodities:** Commodities (like gold, oil, and agricultural products) can act as an inflation hedge.  Their prices often rise with inflation because they are essential inputs for many goods and services.\n",
      "*   **Cash:**  Holding cash during inflation is generally not a good strategy. The value of cash decreases as inflation rises. The purchasing power of your savings shrinks over time.\n",
      "\n",
      "**3. Impact on Required Rate of Return:**\n",
      "\n",
      "*   Investors demand a higher nominal return on their investments to compensate for the expected rate of inflation.  This is called the \"inflation premium.\"  This higher required return makes it more expensive for companies to raise capital, potentially impacting their growth.\n",
      "\n",
      "**4. Investment Decisions:**\n",
      "\n",
      "*   **Asset Allocation:** Inflation considerations influence asset allocation strategies.  During periods of high expected inflation, investors might shift towards assets that are considered better inflation hedges (e.g., commodities, real estate, TIPS).\n",
      "*   **Investment Horizon:** The impact of inflation is more significant over longer investment horizons. The longer the time period, the more purchasing power can be eroded.\n",
      "*   **Investment Timing:** It's important to consider inflation when evaluating the present value of future cash flows from an investment.  Higher inflation rates mean future cash flows are worth less today.\n",
      "\n",
      "**5. Taxes:**\n",
      "\n",
      "*   Inflation can exacerbate the impact of taxes on investment returns.  You may be taxed on nominal gains that don't represent a real increase in purchasing power.  For example, if you buy an asset for $100 and sell it for $110 after inflation has been 5%, you've only gained $5 in real terms, but you'll be taxed on the $10 gain.\n",
      "\n",
      "**In Summary:**\n",
      "\n",
      "Inflation is a key factor in determining the true return on your investments. Ignoring inflation can lead to an overestimation of your investment performance and potentially flawed financial planning.  It's crucial to understand how inflation impacts different asset classes and to adjust your investment strategies accordingly to protect and grow your purchasing power over time. Strategies for mitigating inflation include:\n",
      "\n",
      "*   **Diversifying Investments:** Spreading investments across different asset classes helps to reduce overall risk and can provide some protection against inflation.\n",
      "*   **Investing in Inflation-Protected Securities:** TIPS and other inflation-linked bonds can help to preserve purchasing power.\n",
      "*   **Regularly Reviewing Portfolio:** Adjusting asset allocation and investment choices as economic conditions change.\n",
      "\n",
      "It's always a good idea to consult with a qualified financial advisor to develop an investment strategy that takes inflation and your individual circumstances into account.\n",
      "\n"
     ]
    }
   ],
   "source": [
    "\n",
    "print(finance_chatbot(\"What is the stock price of AAPL?\"))\n",
    "\n",
    "\n",
    "print(finance_chatbot(\"Explain how inflation impacts investment returns.\"))\n"
   ]
  }
 ],
 "metadata": {
  "kernelspec": {
   "display_name": "Python 3",
   "language": "python",
   "name": "python3"
  },
  "language_info": {
   "codemirror_mode": {
    "name": "ipython",
    "version": 3
   },
   "file_extension": ".py",
   "mimetype": "text/x-python",
   "name": "python",
   "nbconvert_exporter": "python",
   "pygments_lexer": "ipython3",
   "version": "3.12.5"
  }
 },
 "nbformat": 4,
 "nbformat_minor": 2
}
